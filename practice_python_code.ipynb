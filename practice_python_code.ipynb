{
  "nbformat": 4,
  "nbformat_minor": 0,
  "metadata": {
    "colab": {
      "provenance": [],
      "authorship_tag": "ABX9TyOJqadHU9TmN9wa14JuJ2kw",
      "include_colab_link": true
    },
    "kernelspec": {
      "name": "python3",
      "display_name": "Python 3"
    },
    "language_info": {
      "name": "python"
    }
  },
  "cells": [
    {
      "cell_type": "markdown",
      "metadata": {
        "id": "view-in-github",
        "colab_type": "text"
      },
      "source": [
        "<a href=\"https://colab.research.google.com/github/JLWings134/practice-python/blob/main/practice_python_code.ipynb\" target=\"_parent\"><img src=\"https://colab.research.google.com/assets/colab-badge.svg\" alt=\"Open In Colab\"/></a>"
      ]
    },
    {
      "cell_type": "code",
      "execution_count": null,
      "metadata": {
        "id": "153p94htcC7f",
        "colab": {
          "base_uri": "https://localhost:8080/"
        },
        "outputId": "8a8727a7-d8ca-4e5a-9b44-8ed2cffa64dc"
      },
      "outputs": [
        {
          "output_type": "stream",
          "name": "stdout",
          "text": [
            "Enter a choice (rock,paper, scissors): paper\n",
            "{'player': 'paper', 'computer': 'scissors'}\n"
          ]
        }
      ],
      "source": [
        "import random\n",
        "\n",
        "def get_choice():\n",
        "  player_choice = input(\"Enter a choice (rock,paper, scissors): \")\n",
        "  options = [\"rock\",\"paper\",\"scissors\"]\n",
        "  computer_choice = random.choice(options)\n",
        "\n",
        "  choices = {\"player\": player_choice, \"computer\":computer_choice}\n",
        "\n",
        "  return choices\n",
        "\n",
        "def check_win(player, computer):\n",
        "  print(f\"You chose {player}, computer chose {computer}.\" )\n",
        "  if player ==computer:\n",
        "    return \"It's a tie\"\n",
        "  elif player==\"rock\" and computer == \"scissors\":\n",
        "    return \"Rock smashes scissors! You win!\"\n",
        "\n",
        "  elif player == \"rock\" and computer == \"paper\"\n",
        "\n",
        "  elif player==\"paper\" and computer == \"rock\":\n",
        "    return \"Paper wraps rock! You win!\"\n",
        "\n",
        "  elif player==\"scissors\" and computer == \"paper\":\n",
        "    return \"Scissors cuts paper! You win!\"\n",
        "check_win(\"rock\",\"paper\")"
      ]
    },
    {
      "cell_type": "code",
      "source": [
        "def greeting():\n",
        "  return \"Hi\"\n",
        "\n",
        "response = greeting()\n",
        "print(response)"
      ],
      "metadata": {
        "colab": {
          "base_uri": "https://localhost:8080/"
        },
        "id": "hvPxJO8P4aNu",
        "outputId": "10155264-215d-4f43-aaf9-93cd83362760"
      },
      "execution_count": null,
      "outputs": [
        {
          "output_type": "stream",
          "name": "stdout",
          "text": [
            "Hi\n"
          ]
        }
      ]
    },
    {
      "cell_type": "code",
      "source": [
        "dict = {\"name\": \"beau\", \"color\": \"blue\"}"
      ],
      "metadata": {
        "id": "wjLtEbMn58kb"
      },
      "execution_count": null,
      "outputs": []
    },
    {
      "cell_type": "code",
      "source": [
        "import random\n",
        "\n",
        "food= [\"pizza\",\"carrots\",\"eggs\"]\n",
        "dinner = random.choice(food)"
      ],
      "metadata": {
        "id": "Nr0wHhYYlrQA"
      },
      "execution_count": null,
      "outputs": []
    },
    {
      "cell_type": "code",
      "source": [
        "age = 25\n",
        "print(f\"Jim is {age} years old.\")"
      ],
      "metadata": {
        "id": "h4nHuX3Bdxs9"
      },
      "execution_count": null,
      "outputs": []
    },
    {
      "cell_type": "code",
      "source": [
        "age = 20\n",
        "if age>= 18:\n",
        "  print(\"You are an adult. \")\n",
        "elif age>12:\n",
        "  print(\"You are a teenager.\")\n",
        "elif age>1:\n",
        "  print(\"You are a child.\")\n",
        "else:\n",
        "  print(\"You are a baby.\")"
      ],
      "metadata": {
        "colab": {
          "base_uri": "https://localhost:8080/",
          "height": 159
        },
        "id": "jLGU3fPMx9ND",
        "outputId": "3c86744d-0fcb-46b0-9e82-be3ca4f041dc"
      },
      "execution_count": 1,
      "outputs": [
        {
          "output_type": "error",
          "ename": "NameError",
          "evalue": "name 'age' is not defined",
          "traceback": [
            "\u001b[0;31m---------------------------------------------------------------------------\u001b[0m",
            "\u001b[0;31mNameError\u001b[0m                                 Traceback (most recent call last)",
            "\u001b[0;32m<ipython-input-1-879529a7075b>\u001b[0m in \u001b[0;36m<cell line: 0>\u001b[0;34m()\u001b[0m\n\u001b[0;32m----> 1\u001b[0;31m \u001b[0;32mif\u001b[0m \u001b[0mage\u001b[0m\u001b[0;34m>=\u001b[0m \u001b[0;36m18\u001b[0m\u001b[0;34m:\u001b[0m\u001b[0;34m\u001b[0m\u001b[0;34m\u001b[0m\u001b[0m\n\u001b[0m\u001b[1;32m      2\u001b[0m   \u001b[0mprint\u001b[0m\u001b[0;34m(\u001b[0m\u001b[0;34m\"You are an adult. \"\u001b[0m\u001b[0;34m)\u001b[0m\u001b[0;34m\u001b[0m\u001b[0;34m\u001b[0m\u001b[0m\n",
            "\u001b[0;31mNameError\u001b[0m: name 'age' is not defined"
          ]
        }
      ]
    },
    {
      "cell_type": "code",
      "source": [],
      "metadata": {
        "id": "1Fr-3l7RydXh"
      },
      "execution_count": null,
      "outputs": []
    }
  ]
}