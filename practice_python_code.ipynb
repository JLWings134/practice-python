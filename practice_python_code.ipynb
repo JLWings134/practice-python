{
  "nbformat": 4,
  "nbformat_minor": 0,
  "metadata": {
    "colab": {
      "provenance": [],
      "authorship_tag": "ABX9TyPorH7q3JNRXgu43h/Vjkvj",
      "include_colab_link": true
    },
    "kernelspec": {
      "name": "python3",
      "display_name": "Python 3"
    },
    "language_info": {
      "name": "python"
    }
  },
  "cells": [
    {
      "cell_type": "markdown",
      "metadata": {
        "id": "view-in-github",
        "colab_type": "text"
      },
      "source": [
        "<a href=\"https://colab.research.google.com/github/JLWings134/practice-python/blob/main/practice_python_code.ipynb\" target=\"_parent\"><img src=\"https://colab.research.google.com/assets/colab-badge.svg\" alt=\"Open In Colab\"/></a>"
      ]
    },
    {
      "cell_type": "code",
      "execution_count": 5,
      "metadata": {
        "id": "153p94htcC7f",
        "colab": {
          "base_uri": "https://localhost:8080/"
        },
        "outputId": "b4fd64c5-194f-4f97-cbdb-15a82a684b29"
      },
      "outputs": [
        {
          "output_type": "stream",
          "name": "stdout",
          "text": [
            "Enter a choice (rock,paper, scissors): rock\n",
            "You chose rock, computer chose rock.\n",
            "It's a tie\n"
          ]
        }
      ],
      "source": [
        "import random\n",
        "\n",
        "def get_choice():\n",
        "  player_choice = input(\"Enter a choice (rock,paper, scissors): \")\n",
        "  options = [\"rock\",\"paper\",\"scissors\"]\n",
        "  computer_choice = random.choice(options)\n",
        "\n",
        "  choices = {\"player\": player_choice, \"computer\":computer_choice}\n",
        "\n",
        "  return choices\n",
        "\n",
        "def check_win(player, computer):\n",
        "  print(f\"You chose {player}, computer chose {computer}.\" )\n",
        "  if player == computer:\n",
        "    return \"It's a tie\"\n",
        "  elif player==\"rock\":\n",
        "    if computer == \"scissors\":\n",
        "     return \"Rock smashes scissors! You win!\"\n",
        "    else:\n",
        "     return \"Paper cover rock! You lose.\"\n",
        "  elif player==\"paper\":\n",
        "    if computer == \"scissors\":\n",
        "     return \"Scissors cuts paper! You lose.\"\n",
        "    else:\n",
        "     return \"Paper cover rock! You win!\"\n",
        "  elif player==\"scissors\":\n",
        "    if computer == \"rock\":\n",
        "     return \"Rock smashes scissors! You lose.\"\n",
        "    else:\n",
        "     return \"Scissors cuts paper! You win!\"\n",
        "\n",
        "choices = get_choice()\n",
        "result = check_win(choices [\"player\"],choices[\"computer\"])\n",
        "print(result)"
      ]
    },
    {
      "cell_type": "code",
      "source": [
        "def greeting():\n",
        "  return \"Hi\"\n",
        "\n",
        "response = greeting()\n",
        "print(response)"
      ],
      "metadata": {
        "colab": {
          "base_uri": "https://localhost:8080/"
        },
        "id": "hvPxJO8P4aNu",
        "outputId": "10155264-215d-4f43-aaf9-93cd83362760"
      },
      "execution_count": null,
      "outputs": [
        {
          "output_type": "stream",
          "name": "stdout",
          "text": [
            "Hi\n"
          ]
        }
      ]
    },
    {
      "cell_type": "code",
      "source": [
        "dict = {\"name\": \"beau\", \"color\": \"blue\"}"
      ],
      "metadata": {
        "id": "wjLtEbMn58kb"
      },
      "execution_count": null,
      "outputs": []
    },
    {
      "cell_type": "code",
      "source": [
        "import random\n",
        "\n",
        "food= [\"pizza\",\"carrots\",\"eggs\"]\n",
        "dinner = random.choice(food)"
      ],
      "metadata": {
        "id": "Nr0wHhYYlrQA"
      },
      "execution_count": null,
      "outputs": []
    },
    {
      "cell_type": "code",
      "source": [
        "age = 25\n",
        "print(f\"Jim is {age} years old.\")"
      ],
      "metadata": {
        "id": "h4nHuX3Bdxs9"
      },
      "execution_count": null,
      "outputs": []
    },
    {
      "cell_type": "code",
      "source": [
        "age = 20\n",
        "if age>= 18:\n",
        "  print(\"You are an adult. \")\n",
        "elif age>12:\n",
        "  print(\"You are a teenager.\")\n",
        "elif age>1:\n",
        "  print(\"You are a child.\")\n",
        "else:\n",
        "  print(\"You are a baby.\")"
      ],
      "metadata": {
        "id": "jLGU3fPMx9ND"
      },
      "execution_count": null,
      "outputs": []
    },
    {
      "cell_type": "code",
      "source": [
        "choices = {\"player\": player_choice, \"computer\":computer_choice}\n",
        "p_choices = choices[\"computer\"]"
      ],
      "metadata": {
        "id": "1Fr-3l7RydXh"
      },
      "execution_count": null,
      "outputs": []
    }
  ]
}